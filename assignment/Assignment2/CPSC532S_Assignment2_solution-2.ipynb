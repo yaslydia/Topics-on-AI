{
  "cells": [
    {
      "cell_type": "code",
      "execution_count": null,
      "metadata": {
        "id": "g99Ql1Ftm2N3"
      },
      "outputs": [],
      "source": [
        "%matplotlib inline\n",
        "\n",
        "from collections import defaultdict\n",
        "from IPython import display\n",
        "from PIL import Image\n",
        "from torch import nn\n",
        "from torch.autograd import Variable\n",
        "from torchvision import models, transforms\n",
        "\n",
        "import json\n",
        "import matplotlib\n",
        "import numpy as np\n",
        "import matplotlib.pyplot as plt\n",
        "import torch"
      ]
    },
    {
      "cell_type": "markdown",
      "metadata": {
        "id": "asLs1eJfm2N6"
      },
      "source": [
        "# Data Acquisition\n",
        "\n",
        "For this assignment, you must download the dataset provided as a separate link on the course webpage and extract it into `data/`. The dataset contains approximately 20K training images and 100 validation images, with multiple captions/tags for each image. For this assignment, we are only concerned with the tags and ignore the captions.\n",
        "\n",
        "For question two on the assignment, the dataset also contains a JSON file that maps from the ImageNet labels to the category names. \n",
        "\n",
        "Following the data downloading and unzipping, the code below loads in the data into memory accordingly."
      ]
    },
    {
      "cell_type": "code",
      "execution_count": null,
      "metadata": {
        "id": "QUjTYG5Sm2N7"
      },
      "outputs": [],
      "source": [
        "# Define a global transformer to appropriately scale images and subsequently convert them to a Tensor.\n",
        "img_size = 224\n",
        "loader = transforms.Compose([\n",
        "  transforms.Resize(img_size),\n",
        "  transforms.CenterCrop(img_size),\n",
        "  transforms.ToTensor(),\n",
        "]) \n",
        "def load_image(filename, volatile=False):\n",
        "    \"\"\"\n",
        "    Simple function to load and preprocess the image.\n",
        "\n",
        "    1. Open the image.\n",
        "    2. Scale/crop it and convert it to a float tensor.\n",
        "    3. Convert it to a variable (all inputs to PyTorch models must be variables).\n",
        "    4. Add another dimension to the start of the Tensor (b/c VGG expects a batch).\n",
        "    5. Move the variable onto the GPU.\n",
        "    \"\"\"\n",
        "    image = Image.open(filename).convert('RGB')\n",
        "    image_tensor = loader(image).float()\n",
        "    image_var = Variable(image_tensor, volatile=volatile).unsqueeze(0)\n",
        "    return image_var.cuda()\n",
        "\n",
        "load_image('data/train2014/COCO_train2014_000000000009.jpg')"
      ]
    },
    {
      "cell_type": "code",
      "execution_count": null,
      "metadata": {
        "id": "seRXDYDmm2N7"
      },
      "outputs": [],
      "source": [
        "# Load ImageNet label to category name mapping.\n",
        "imagenet_categories = [value for key,value in sorted(json.load(open('data/imagenet_categories.json')).items(), key=lambda t: int(t[0]))]\n",
        "\n",
        "# Load annotations file for the 100K training images.\n",
        "mscoco_train = json.load(open('data/annotations/train2014.json'))\n",
        "train_ids = [entry['id'] for entry in mscoco_train['images']]\n",
        "train_id_to_file = {entry['id']: 'data/train2014/' + entry['file_name'] for entry in mscoco_train['images']}\n",
        "category_to_name = {entry['id']: entry['name'] for entry in mscoco_train['categories']}\n",
        "category_idx_to_name = [entry['name'] for entry in mscoco_train['categories']]\n",
        "category_to_idx = {entry['id']: i for i,entry in enumerate(mscoco_train['categories'])}\n",
        "\n",
        "# Load annotations file for the 100 validation images.\n",
        "mscoco_val = json.load(open('data/annotations/val2014.json'))\n",
        "val_ids = [entry['id'] for entry in mscoco_val['images']]\n",
        "val_id_to_file = {entry['id']: 'data/val2014/' + entry['file_name'] for entry in mscoco_val['images']}\n",
        "\n",
        "# We extract out all of the category labels for the images in the training set. We use a set to ignore \n",
        "# duplicate labels.\n",
        "train_id_to_categories = defaultdict(set)\n",
        "for entry in mscoco_train['annotations']:\n",
        "    train_id_to_categories[entry['image_id']].add(entry['category_id'])\n",
        "\n",
        "# We extract out all of the category labels for the images in the validation set. We use a set to ignore \n",
        "# duplicate labels.\n",
        "val_id_to_categories = defaultdict(set)\n",
        "for entry in mscoco_val['annotations']:\n",
        "    val_id_to_categories[entry['image_id']].add(entry['category_id'])"
      ]
    },
    {
      "cell_type": "markdown",
      "metadata": {
        "id": "GXMRuS7Mm2N8"
      },
      "source": [
        "Let us take a look at an image and its corresponding category labels. We consider the image with the id 391895 and the corresponding filename, `data/val2014/COCO_val2014_000000391895.jpg`. The image is shown below.\n",
        "\n",
        "![image](data/val2014/COCO_val2014_000000391895.jpg)\n",
        "\n",
        "The following code determines the category labels for this image."
      ]
    },
    {
      "cell_type": "code",
      "execution_count": null,
      "metadata": {
        "id": "litGrvhSm2N8"
      },
      "outputs": [],
      "source": [
        "for i,category in enumerate(val_id_to_categories[391895]):\n",
        "    print(\"%d. %s\" % (i, category_to_name[category]))"
      ]
    },
    {
      "cell_type": "markdown",
      "metadata": {
        "id": "Dqpk-MFWm2N8"
      },
      "source": [
        "# 1. Loading a Pre-trained Convolutional Neural Network (CNN)\n",
        "\n",
        "We will work with the VGG-16 image classification CNN network first introduced in [Very Deep Convolutional Neural Networks for Large-Scale Image Recognition](https://arxiv.org/pdf/1409.1556.pdf) by K. Simonyan and A. Zisserman.\n",
        "\n",
        "Fairly straightforwardly, we load the pre-trained VGG model and indicate to PyTorch that we are using the model for inference rather than training."
      ]
    },
    {
      "cell_type": "code",
      "execution_count": null,
      "metadata": {
        "id": "p13m0zChm2N8"
      },
      "outputs": [],
      "source": [
        "vgg_model = models.vgg16(pretrained=True)\n",
        "vgg_model = vgg_model.cuda()\n",
        "\n",
        "# Let's see what the model looks like.\n",
        "vgg_model.eval()"
      ]
    },
    {
      "cell_type": "markdown",
      "metadata": {
        "id": "2xcXs1qmm2N9"
      },
      "source": [
        "# 2. Making Predictions Using VGG-16\n",
        "\n",
        "Given the pre-trained network, we must now write the code to make predictions on the 100 validation images via a forward pass through the network. Typically the final layer of VGG-16 is a softmax layer, however the pre-trained PyTorch model that we are using does not have softmax built into the final layer (instead opting to incorporate it into the loss function) and therefore we must **manually** apply softmax to the output of the function."
      ]
    },
    {
      "cell_type": "code",
      "execution_count": null,
      "metadata": {
        "id": "rY9Ej2NKm2N9"
      },
      "outputs": [],
      "source": [
        "softmax = nn.Softmax(dim=1)\n",
        "\n",
        "for image_id in val_ids[:10]:\n",
        "    # Display the image.\n",
        "    display.display(display.Image(val_id_to_file[image_id]))\n",
        "\n",
        "    # Print all of the category labels for this image.\n",
        "    print(\"Ground Truth Labels:\")\n",
        "    for i,category in enumerate(val_id_to_categories[image_id]):\n",
        "        print(\"%d. %s\" % (i, category_to_name[category]))\n",
        "  \n",
        "    # Load/preprocess the image.\n",
        "    img = load_image(val_id_to_file[image_id])\n",
        "\n",
        "    # Run the image through the model and softmax.\n",
        "    label_likelihoods = softmax(vgg_model(img)).squeeze()\n",
        "\n",
        "    # Get the top 5 labels, and their corresponding likelihoods.\n",
        "    probs, indices = label_likelihoods.topk(5)\n",
        "\n",
        "    # Iterate and print out the predictions.\n",
        "    print(\"Predictions:\")\n",
        "    for i in range(5):\n",
        "        print(\"%d. %s (%.3f)\" % (i, imagenet_categories[indices.data[i]], probs.data[i]))"
      ]
    },
    {
      "cell_type": "markdown",
      "metadata": {
        "id": "UKWctji-m2N9"
      },
      "source": [
        "# 3. Computing Generic Visual Features using CNN\n",
        "\n",
        "Since, rather than the output of VGG, we want a fixed sized vector representation of each image, we remove the last linear layer. The implementation of the forward function for VGG is shown below:\n",
        "\n",
        "```\n",
        "x = self.features(x)\n",
        "x = x.view(x.size(0), -1)\n",
        "x = self.classifier(x)\n",
        "```\n",
        "We aim to preserve everything but the final component of the classifier, meaning we must define an alternative equivalent to `self.classifier`."
      ]
    },
    {
      "cell_type": "code",
      "execution_count": null,
      "metadata": {
        "id": "DPDgeYxRm2N9"
      },
      "outputs": [],
      "source": [
        "# Remove the final layer of the classifier, and indicate to PyTorch that the model is being used for inference\n",
        "# rather than training (most importantly, this disables dropout).\n",
        "modified_classifier = nn.Sequential(*list(vgg_model.classifier.children())[:-1])\n",
        "modified_classifier.eval()"
      ]
    },
    {
      "cell_type": "code",
      "execution_count": null,
      "metadata": {
        "id": "sB8k2SAGm2N-"
      },
      "outputs": [],
      "source": [
        "# First we vectorize all of the training images and write the results to a file.\n",
        "# TODO: Do more than just the first 500 (don't want to run everything right now)\n",
        "training_vectors = []\n",
        "for i,image_id in enumerate(train_ids):\n",
        "    if (i%1000 == 0):\n",
        "        print(i)\n",
        "    # Load/preprocess the image.\n",
        "    img = load_image(train_id_to_file[image_id])\n",
        "\n",
        "    # Run through the convolutional layers and resize the output.\n",
        "    features_output = vgg_model.features(img)\n",
        "    classifier_input = features_output.view(1, -1)\n",
        "\n",
        "    # Run through all but final classifier layers.\n",
        "    output = modified_classifier(classifier_input)\n",
        "    training_vectors.append(np.array(list(output.data.squeeze())))\n",
        "\n",
        "# For simplicity, we convert this to a numpy array and save the result to a file.\n",
        "training_vectors = np.stack(training_vectors, axis=0)\n",
        "np.save(open('outputs/training_vectors', 'wb+'), training_vectors)"
      ]
    },
    {
      "cell_type": "code",
      "execution_count": null,
      "metadata": {
        "id": "mkulJMnMm2N-"
      },
      "outputs": [],
      "source": [
        "import pickle\n",
        "training_vectors = pickle.load(open(\"outputs/training_vectors.p\",\"rb\"))\n",
        "validation_vectors = np.load(\"./outputs/validation_vectors\")"
      ]
    },
    {
      "cell_type": "code",
      "execution_count": null,
      "metadata": {
        "id": "GpnsyqaOm2N-"
      },
      "outputs": [],
      "source": [
        "# Next we vectorize all of the validation images and write the results to a file.\n",
        "validation_vectors = []\n",
        "for image_id in val_ids:\n",
        "    # Load/preprocess the image.\n",
        "    img = load_image(val_id_to_file[image_id])\n",
        "\n",
        "    # Run through the convolutional layers and resize the output.\n",
        "    features_output = vgg_model.features(img)\n",
        "    classifier_input = features_output.view(1, -1)\n",
        "\n",
        "    # Run through all but final classifier layers.\n",
        "    output = modified_classifier(classifier_input)\n",
        "    validation_vectors.append(list(output.data.squeeze()))\n",
        "\n",
        "# For simplicity, we convert this to a numpy array and save the result to a file.\n",
        "validation_vectors = np.array(validation_vectors)\n",
        "np.save(open('outputs/validation_vectors', 'wb+'), validation_vectors)"
      ]
    },
    {
      "cell_type": "markdown",
      "metadata": {
        "id": "yqTU_nNym2N_"
      },
      "source": [
        "# 4. Visual Similarity\n",
        "\n",
        "We now use the generated vectors, to find the closest training image for every validation image. This can easily be done by finding the training vector that minimizes the Euclidean distance for every validation image. We repeat this exercise for the first 10 images in the validation set."
      ]
    },
    {
      "cell_type": "code",
      "execution_count": null,
      "metadata": {
        "id": "98Og-5D1m2N_"
      },
      "outputs": [],
      "source": [
        "for i,(image_id,vector) in enumerate(zip(val_ids, validation_vectors)):\n",
        "    print(\"Processing image %d\" % i)  \n",
        "    \n",
        "    # Identify the index of the closest training vector.\n",
        "    closest_idx = min(range(len(training_vectors)), key=lambda i: np.linalg.norm(training_vectors[i] - vector))\n",
        "\n",
        "    # Show the two images, first the original and then the closest training.\n",
        "    display.display(display.Image(val_id_to_file[image_id]))\n",
        "    display.display(display.Image(train_id_to_file[train_ids[closest_idx]]))"
      ]
    },
    {
      "cell_type": "markdown",
      "metadata": {
        "id": "vru2V1Jkm2OA"
      },
      "source": [
        "# 5. Training a Multi-Class Classification Network\n",
        "\n",
        "We now build a two layer classification network, which takes 4096-dimensional vectors as input and outputs the probabilities of the 80 categories present in MSCOCO. \n",
        "\n",
        "For this purpose, we utilize two layers (both containing sigmoid activation functions) with the hidden dimension set to 512. "
      ]
    },
    {
      "cell_type": "code",
      "execution_count": null,
      "metadata": {
        "id": "wcRZQn3Nm2OA"
      },
      "outputs": [],
      "source": [
        "# First we construct a class for the model\n",
        "\n",
        "class MultiClassClassifier(torch.nn.Module):\n",
        "    def __init__(self, input_size, hidden_size, output_size):\n",
        "        \"\"\"\n",
        "        When constructing the model, we initialize two linear modules and assign them\n",
        "        as class fields.\n",
        "        \"\"\"\n",
        "        super(MultiClassClassifier, self).__init__()\n",
        "        self.layer1 = torch.nn.Linear(input_size, hidden_size)\n",
        "        self.layer2 = torch.nn.Linear(hidden_size, output_size)\n",
        "    \n",
        "    def forward(self, x):\n",
        "        \"\"\"\n",
        "        Pass the input through the network, applying the sigmoid activation function after each layer.\n",
        "        \"\"\"\n",
        "        return self.layer2(torch.sigmoid(self.layer1(x)))\n",
        "\n"
      ]
    },
    {
      "cell_type": "code",
      "execution_count": null,
      "metadata": {
        "id": "0W_uzUlOm2OA"
      },
      "outputs": [],
      "source": [
        "model_c = MultiClassClassifier(4096, 512, 80).cuda()"
      ]
    },
    {
      "cell_type": "code",
      "execution_count": null,
      "metadata": {
        "id": "PMyFyH-Jm2OB"
      },
      "outputs": [],
      "source": [
        "import pickle\n",
        "training_vectors = pickle.load(open(\"outputs/training_vectors.p\", \"rb\"))\n",
        "validation_vectors = np.load(\"outputs/validation_vectors\")"
      ]
    },
    {
      "cell_type": "code",
      "execution_count": null,
      "metadata": {
        "id": "AaeaZEBwm2OB"
      },
      "outputs": [],
      "source": [
        "# Randomize training vectors\n",
        "# training_vectors = np.random.random((len(train_ids), 4096))\n",
        "\n",
        "# Now we prepare the input data, by converting the generated vectors into PyTorch variables.\n",
        "training_input = [Variable(torch.FloatTensor(train_vector)).cuda() for train_vector,train_id in zip(training_vectors,train_ids) if len(list(train_id_to_categories[train_id])) > 0]\n",
        "\n",
        "# Construct the validation input\n",
        "with torch.no_grad():\n",
        "    validation_input = [Variable(torch.FloatTensor(val_vector)).cuda() for val_vector in validation_vectors]\n",
        "#     validation_input = [Variable(torch.FloatTensor(val_vector), volatile=True).cuda() for val_vector in validation_vectors]\n",
        "\n",
        "# The output data is prepared by representing each output as a binary vector of categories\n",
        "training_output = []\n",
        "for i in range(len(train_ids)):\n",
        "    categories = list(train_id_to_categories[train_ids[i]])\n",
        "    if len(categories) == 0:\n",
        "        continue\n",
        "  \n",
        "    training_vector = np.zeros(len(category_to_idx))\n",
        "    indices = [category_to_idx[category] for category in categories]\n",
        "    training_vector[indices] = 1\n",
        "    training_output.append(training_vector)\n",
        "\n",
        "training_output = Variable(torch.FloatTensor(training_output)).cuda()"
      ]
    },
    {
      "cell_type": "code",
      "execution_count": null,
      "metadata": {
        "id": "w75UFqBzm2OB"
      },
      "outputs": [],
      "source": [
        "# The output data is prepared by representing each output as a binary vector of categories\n",
        "validation_output = []\n",
        "for i in range(len(val_ids)):\n",
        "    categories = list(val_id_to_categories[val_ids[i]])  \n",
        "    training_vector = np.zeros(len(category_to_idx))\n",
        "    indices = [category_to_idx[category] for category in categories]\n",
        "    training_vector[indices] = 1\n",
        "    validation_output.append(training_vector)\n",
        "with torch.no_grad():\n",
        "    validation_output = Variable(torch.FloatTensor(validation_output)).cuda()\n",
        "#     validation_output = Variable(torch.FloatTensor(validation_output), volatile=True).cuda()"
      ]
    },
    {
      "cell_type": "code",
      "execution_count": null,
      "metadata": {
        "id": "WEbHRVFSm2OC"
      },
      "outputs": [],
      "source": [
        "def validate(model):\n",
        "    \"\"\"\n",
        "    Given a model, return the validation loss.\n",
        "    \"\"\"\n",
        "    criterion = nn.MultiLabelSoftMarginLoss()\n",
        "\n",
        "    # Create the input/output for the model\n",
        "    x = torch.stack(validation_input)\n",
        "    y = validation_output\n",
        "\n",
        "    # Run it through the prediction\n",
        "    y_pred = model(x)\n",
        "        \n",
        "    # Compute and return loss\n",
        "    loss = criterion(y_pred, y)\n",
        "    return loss.item()"
      ]
    },
    {
      "cell_type": "code",
      "execution_count": null,
      "metadata": {
        "id": "FFLR1cKRm2OC"
      },
      "outputs": [],
      "source": [
        "def train(model, learning_rate=0.0001, batch_size=100, epochs=10):\n",
        "    \"\"\"\n",
        "    Training function which takes as input a model, a learning rate and a batch size.\n",
        "  \n",
        "    After completing a full pass over the data, the function exists, and the input model will be trained.\n",
        "    \"\"\"\n",
        "    # Define the criterion and optimizer.\n",
        "    criterion = nn.MultiLabelSoftMarginLoss()\n",
        "    optimizer = torch.optim.Adam(model.parameters(), lr=learning_rate)\n",
        "\n",
        "    # Keep track of the losses, for the purposes of plotting.\n",
        "    train_losses = []\n",
        "    val_losses = []\n",
        "\n",
        "    # Determine number of minibatches\n",
        "    \n",
        "    num_iter = epochs * len(training_input)//batch_size \n",
        "    print(num_iter)\n",
        "    for i in range(num_iter):\n",
        "        start_idx = i * batch_size % len(training_input)\n",
        "\n",
        "        # Retrieve the next batch of training data.\n",
        "        x = torch.stack(training_input[start_idx:start_idx+batch_size])\n",
        "        y = training_output[start_idx:start_idx+batch_size]\n",
        "        \n",
        "        # Forward pass\n",
        "        y_pred = model(x)\n",
        "\n",
        "        # Compute and print loss\n",
        "        loss = criterion(y_pred, y)\n",
        "        if i % 100 == 0:\n",
        "            train_losses.append(loss.item())\n",
        "            val_losses.append(validate(model))\n",
        "            print(i, train_losses[-1], val_losses[-1])\n",
        "\n",
        "        # Zero gradients, perform backwards pass and update model weights\n",
        "        optimizer.zero_grad()\n",
        "        loss.backward()\n",
        "        optimizer.step()  \n",
        "\n",
        "    return train_losses, val_losses    \n",
        "\n",
        "# Finally train the model\n",
        "train(model_c)"
      ]
    },
    {
      "cell_type": "code",
      "execution_count": null,
      "metadata": {
        "id": "tlVqDUsHm2OC"
      },
      "outputs": [],
      "source": [
        "# Now we repeat step two using the two layer classifier.\n",
        "softmax = nn.Softmax(dim=1)\n",
        "model_c.eval()\n",
        "for i,image_id in enumerate(val_ids):\n",
        "    # Display the image.\n",
        "    display.display(display.Image(val_id_to_file[image_id]))\n",
        "\n",
        "    # Print all of the category labels for this image.\n",
        "    print(\"Ground Truth Labels:\")\n",
        "    for i,category in enumerate(val_id_to_categories[image_id]):\n",
        "        print(\"%d. %s\" % (i, category_to_name[category]))\n",
        "  \n",
        "    # Run the image through the model and softmax.\n",
        "    label_likelihoods = torch.sigmoid(model_c(validation_input[i].unsqueeze(0))).squeeze()\n",
        "\n",
        "    # Get the top 5 labels, and their corresponding likelihoods.\n",
        "    probs, indices = label_likelihoods.topk(5)\n",
        "\n",
        "    # Iterate and print out the predictions.\n",
        "    print(\"Predictions:\")\n",
        "    for i in range(5):\n",
        "        print(\"%d. %s (%.3f)\" % (i, category_idx_to_name[indices.data[i]], probs.data[i]))"
      ]
    },
    {
      "cell_type": "markdown",
      "metadata": {
        "id": "HTlBsReVm2OD"
      },
      "source": [
        "# 6. End-to-End Model Fine-tuning\n",
        "\n",
        "Instead of training *only* the final two layers, we now create an end-to-end model and train the entire thing. "
      ]
    },
    {
      "cell_type": "code",
      "execution_count": null,
      "metadata": {
        "id": "aw6_Ca45m2OD"
      },
      "outputs": [],
      "source": []
    },
    {
      "cell_type": "code",
      "execution_count": null,
      "metadata": {
        "id": "H0kffyA_m2OD"
      },
      "outputs": [],
      "source": [
        "model_c.load_state_dict(torch.load(\"./model_c.pth\"))"
      ]
    },
    {
      "cell_type": "code",
      "execution_count": null,
      "metadata": {
        "id": "W8n8_Yw6m2OD"
      },
      "outputs": [],
      "source": [
        "# First we construct a class for the model\n",
        "class EndToEndModel(torch.nn.Module):\n",
        "    def __init__(self, vgg_model, classifier_c):\n",
        "        \"\"\"\n",
        "        When constructing the model, we initialize two linear modules and assign them\n",
        "        as class fields. We also, as done earlier, remove the final layer of the vgg model.\n",
        "        \"\"\"\n",
        "        super(EndToEndModel, self).__init__()\n",
        "        self.features = vgg_model.features\n",
        "        self.classifier = nn.Sequential(*list(vgg_model.classifier.children())[:-1])\n",
        "        self.classifier_c = classifier_c\n",
        "\n",
        "    \n",
        "    def forward(self, x):\n",
        "        \"\"\"\n",
        "        Pass the input through the network, applying the sigmoid activation function after each layer.\n",
        "        \"\"\"\n",
        "        x = self.features(x)\n",
        "        x = x.view(x.size(0), -1)\n",
        "        x = self.classifier(x)\n",
        "        return self.classifier_c(x)\n",
        "\n",
        "model = EndToEndModel(vgg_model,model_c).cuda()"
      ]
    },
    {
      "cell_type": "code",
      "execution_count": null,
      "metadata": {
        "id": "C3q-YaEwm2OE"
      },
      "outputs": [],
      "source": [
        "def validate(model):\n",
        "    \"\"\"\n",
        "    Given a model, return the validation loss.\n",
        "    \"\"\"\n",
        "    # Now we prepare the input data, by converting the generated vectors into PyTorch variables.\n",
        "    with torch.no_grad():\n",
        "        validation_input = [load_image(val_id_to_file[val_id]).squeeze() for val_id in val_ids[:50]]\n",
        "\n",
        "\n",
        "    criterion = nn.MultiLabelSoftMarginLoss()\n",
        "\n",
        "    # Create the input/output for the model\n",
        "    x = torch.stack(validation_input)\n",
        "    y = validation_output[:50]\n",
        "\n",
        "    # Run it through the prediction\n",
        "    y_pred = model(x)\n",
        "        \n",
        "    # Compute and return loss\n",
        "    loss = criterion(y_pred, y)\n",
        "    return loss.item()\n",
        "\n",
        "def create_training(start, end):\n",
        "    training_input = [load_image(train_id_to_file[train_id]).squeeze() for train_id in train_ids[start:end]\n",
        "                      if len(list(train_id_to_categories[train_id])) > 0]\n",
        "\n",
        "    # The output data is prepared by representing each output as a binary vector of categories\n",
        "    training_output = []\n",
        "    for i in range(start,min(len(train_ids),end)):\n",
        "        categories = list(train_id_to_categories[train_ids[i]])\n",
        "        if len(categories) == 0:\n",
        "            continue\n",
        "\n",
        "        training_vector = np.zeros(len(category_to_idx))\n",
        "        indices = [category_to_idx[category] for category in categories]\n",
        "        training_vector[indices] = 1\n",
        "        training_output.append(training_vector)\n",
        "    training_output = Variable(torch.FloatTensor(training_output)).cuda()\n",
        "    \n",
        "    return training_input, training_output\n",
        "\n",
        "def train(model, learning_rate=0.00001, batch_size=20, epochs=1):\n",
        "    \"\"\"\n",
        "    Training function which takes as input a model, a learning rate and a batch size.\n",
        "  \n",
        "    After completing a full pass over the data, the function exists, and the input model will be trained.\n",
        "    \"\"\"\n",
        "    # Define the criterion and optimizer.\n",
        "    model.train()\n",
        "    criterion = nn.MultiLabelSoftMarginLoss()\n",
        "    optimizer = torch.optim.Adam(model.parameters(), lr=learning_rate)\n",
        "\n",
        "    # Keep track of the losses, for the purposes of plotting.\n",
        "    train_losses = []\n",
        "    val_losses = []\n",
        "\n",
        "    # Determine number of minibatches\n",
        "    num_iter = epochs * len(train_id_to_file)//batch_size \n",
        "    for i in range(num_iter):\n",
        "        print(\"Starting iteration: \", i)\n",
        "        \n",
        "        start_idx = i * batch_size % len(train_id_to_file)\n",
        "        \n",
        "        training_input, training_output = create_training(start_idx, start_idx + batch_size)\n",
        "\n",
        "        # Retrieve the next batch of training data.\n",
        "        x = torch.stack(training_input)\n",
        "        y = training_output\n",
        "\n",
        "        # Forward pass\n",
        "        y_pred = model(x)\n",
        "\n",
        "        # Compute and print loss\n",
        "        loss = criterion(y_pred, y)\n",
        "\n",
        "        # Zero gradients, perform backwards pass and update model weights\n",
        "        optimizer.zero_grad()\n",
        "        loss.backward()\n",
        "        optimizer.step()  \n",
        "        \n",
        "        del x,y,y_pred\n",
        "\n",
        "        if i % 10 == 0:\n",
        "            model.eval()\n",
        "            train_losses.append(loss.item())\n",
        "            val_losses.append(validate(model))\n",
        "            print(i, train_losses[-1], val_losses[-1])\n",
        "            model.train()\n",
        "        \n",
        "    return train_losses, val_losses    \n",
        "\n",
        "# Finally train the model\n",
        "train(model)"
      ]
    },
    {
      "cell_type": "code",
      "execution_count": null,
      "metadata": {
        "id": "4gMCPvztm2OE"
      },
      "outputs": [],
      "source": [
        "# Now we repeat step two using the end-to-end classifier.\n",
        "model.eval()\n",
        "with torch.no_grad():\n",
        "    validation_input = [load_image(val_id_to_file[val_id]).squeeze() for val_id in val_ids[:50]]\n",
        "softmax = nn.Softmax(dim=1)\n",
        "for i,image_id in enumerate(val_ids):\n",
        "    # Display the image.\n",
        "    display.display(display.Image(val_id_to_file[image_id]))\n",
        "\n",
        "    # Print all of the category labels for this image.\n",
        "    print(\"Ground Truth Labels:\")\n",
        "    for i,category in enumerate(val_id_to_categories[image_id]):\n",
        "        print(\"%d. %s\" % (i, category_to_name[category]))\n",
        "  \n",
        "    # Run the image through the model and softmax.\n",
        "    label_likelihoods = torch.sigmoid(model(validation_input[i].unsqueeze(0))).squeeze()\n",
        "\n",
        "    # Get the top 5 labels, and their corresponding likelihoods.\n",
        "    probs, indices = label_likelihoods.topk(5)\n",
        "\n",
        "    # Iterate and print out the predictions.\n",
        "    print(\"Predictions:\")\n",
        "    for i in range(5):\n",
        "        print(\"%d. %s (%.3f)\" % (i, category_idx_to_name[indices.data[i]], probs.data[i]))"
      ]
    },
    {
      "cell_type": "markdown",
      "metadata": {
        "id": "RdMEHY-Km2OE"
      },
      "source": [
        "# 7. Hyper-parameter Tuning\n",
        "\n",
        "Now we do a grid search over the learning rate and batch size."
      ]
    },
    {
      "cell_type": "code",
      "execution_count": null,
      "metadata": {
        "id": "-bdOti9Sm2OE"
      },
      "outputs": [],
      "source": [
        "best_params = None\n",
        "best_loss = float('inf')\n",
        "for learning_rate in [0.0001, 0.001, 0.01]:\n",
        "    for batch_size in [50, 50, 5]:\n",
        "        model = EndToEndModel(vgg_model, 4096, 512, 80).cuda()\n",
        "        \n",
        "        train_losses, val_losses = train(model, learning_rate=learning_rate, batch_size=batch_size)\n",
        "\n",
        "        plt.plot(losses)\n",
        "        plt.title('Training Losses (learning rate = %.3f, batch_size = %d' % (learning_rate, batch_size))\n",
        "        plt.show()\n",
        "    \n",
        "        if val_losses[-1] < best_loss:\n",
        "            best_loss = val_losses[-1]\n",
        "            best_params = (learning_rate, batch_size) "
      ]
    }
  ],
  "metadata": {
    "colab": {
      "name": "CPSC532S_Assignment2_solution.ipynb",
      "provenance": []
    },
    "kernelspec": {
      "display_name": "Python 3.9.12 64-bit",
      "language": "python",
      "name": "python3"
    },
    "language_info": {
      "codemirror_mode": {
        "name": "ipython",
        "version": 3
      },
      "file_extension": ".py",
      "mimetype": "text/x-python",
      "name": "python",
      "nbconvert_exporter": "python",
      "pygments_lexer": "ipython3",
      "version": "3.9.12"
    },
    "vscode": {
      "interpreter": {
        "hash": "b0fa6594d8f4cbf19f97940f81e996739fb7646882a419484c72d19e05852a7e"
      }
    }
  },
  "nbformat": 4,
  "nbformat_minor": 0
}
