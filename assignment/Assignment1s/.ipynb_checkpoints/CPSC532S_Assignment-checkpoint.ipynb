{
  "cells": [
    {
      "cell_type": "markdown",
      "metadata": {
        "id": "U2qDI9QbgO-d"
      },
      "source": [
        "# Topics in Artificial Intelligence (CPSC 532S)\n",
        "# Assignment 1: Intriduction to Deep Learning\n",
        "\n",
        "\n",
        "This assignment is inspired and adopted from the Deep Learning Lab from Vicente Ordonez's course on Language and Vision at the University of Virginia. The first two parts of this notebook are taken nearly verbatim from his lab. Section 1 is provided for you and implements a single-layer supervised neural network; no coding is required for Section 1. Section 2 and Section 3 are the ones where you need to code the solutions and provide answers to questions. Section 4 is designed to introduce you to PyTorch and, more importantly, introduce you to key debugging strategies when dealing with training of neural networks. \n",
        "\n",
        "# 1. Single-layer neural network\n",
        "This section provides simple implementation of the single-layer supervised neural network that has 4 inputs and 3 outputs. First, let's review the skeleton of a single linear layer neural network. The inputs of the network are the variables $x_1, x_2, x_3, x_4$, or the input vector $\\mathbf{x}=[x_1, x_2, x_3, x_4]$, the outputs of the network are $\\widehat{y}_1,\\widehat{y}_2,\\widehat{y}_3$, or the output vector $\\widehat{\\mathbf{y}}=[$$\\widehat{y}$$_1,\\widehat{y}_2,\\widehat{y}_3]$:\n",
        "\n",
        "<br>\n",
        "<center>\n",
        "<img src=\"http://www.cs.ubc.ca/~lsigal/532S_2022W1/Assignment1/1_layer_net.png\" width=\"450\">\n",
        "</center>\n",
        "<br>\n",
        "\n",
        "The given $j$-th output $\\widehat{y}_j$ of this single linear layer + activation function is computed as follows:\n",
        "\n",
        "$$\\widehat{y}_j= \\text{sigmoid}(w_{1j}x_1 + w_{2j}x_2 + w_{3j}x_3 + w_{4j}x_4 + b_j) = \\text{sigmoid}\\Big(\\sum_{i=1}^{i=4}w_{ij}x_{i} + b_j\\Big)$$\n",
        "\n",
        "In matrix notation, this would be: \n",
        "\n",
        "\\begin{equation}\n",
        "\\begin{bmatrix}\n",
        "  \\widehat{y}_{1} \\\\ \n",
        "  \\widehat{y}_{2} \\\\\n",
        "  \\widehat{y}_{3} \n",
        "\\end{bmatrix}^T=\\mathbf{Sigmoid}\\Bigg(\n",
        "\\begin{bmatrix}\n",
        "  x_{1} \\\\\n",
        "  x_{2} \\\\\n",
        "  x_{3} \\\\\n",
        "  x_{4}\n",
        "\\end{bmatrix}^T\n",
        "\\begin{bmatrix}\n",
        "  w_{1,1} & w_{1,2} & w_{1,3}\\\\\n",
        "  w_{2,1} & w_{3,2} & w_{2,3}\\\\\n",
        "  w_{3,1} & w_{3,2} & w_{3,3}\\\\\n",
        "  w_{4,1} & w_{4,2} & w_{4,3}\n",
        "\\end{bmatrix}\n",
        "+\n",
        "\\begin{bmatrix}\n",
        "  b_{1} \\\\\n",
        "  b_{2} \\\\\n",
        "  b_{3}\n",
        "\\end{bmatrix}^T\\Bigg)\n",
        "\\end{equation}\n",
        "\n",
        "or more compactly:\n",
        "\n",
        "\\begin{equation}\n",
        "\\widehat{\\mathbf{y}}^T = \\mathbf{Sigmoid}(\\mathbf{x}^T \\cdot \\mathbf{W} + \\mathbf{b}^T)\n",
        "\\end{equation}\n",
        "\n",
        "The element-wise sigmoid function is: $\\mathbf{Sigmoid}(\\mathbf{x}) = 1 \\;/\\; (1 + exp(-\\mathbf{x}))$, or alternatively: $\\mathbf{Sigmoid}(\\mathbf{x}) = exp(\\mathbf{x})\\;/\\;(1 + exp(\\mathbf{x}))$. Here the sigmoid is separated logically into an activation layer $\\sigma(x)$ and a linear layer $\\text{linear}(3,4)$ as illustrated in figure. \n",
        "\n",
        "Training these weights $\\mathbf{W}$ and biases $\\mathbf{b}$ requires having many training pairs $(\\widehat{\\mathbf{y}}^{(m)}, \\mathbf{x}^{(m)})$. The inputs $\\mathbf{x}$ can be the pixels of an image, indices of words, the entries in a database, and the outputs $\\widehat{\\mathbf{y}}$ can also be literally anything, including a number indicating a category, a set of numbers indicating the indices of words composing a sentence, an output image itself, etc."
      ]
    },
    {
      "cell_type": "markdown",
      "source": [
        "## 1.1. Forward-propagation\n",
        "\n",
        "Computing the outputs $\\widehat{\\mathbf{y}}$ from the inputs $\\mathbf{x}$ in this network composed of a single linear layer, and a sigmoid layer, is called forward-propagation. Below is the code that implements these two operations:"
      ],
      "metadata": {
        "id": "UVzTIH-FDFp2"
      }
    },
    {
      "cell_type": "code",
      "execution_count": null,
      "metadata": {
        "id": "q5oXYGAtgO-f",
        "outputId": "fff94757-4e3c-44f7-bd9e-77b36a6cf990"
      },
      "outputs": [
        {
          "name": "stdout",
          "output_type": "stream",
          "text": [
            "x[1] = [[1 2 2 3]]\n",
            "y_hat[1] = [[0.50067995 0.50042228 0.50088356]]\n",
            "\n",
            "x[2] = [[4 5 2 1]]\n",
            "y_hat[2] = [[0.50280872 0.49799275 0.50228413]]\n",
            "\n",
            "x = [[1 2 2 3]\n",
            " [4 5 2 1]]\n",
            "y_hat = [[0.49971785 0.49989289 0.49747547]\n",
            " [0.50095013 0.50081337 0.49640169]]\n"
          ]
        }
      ],
      "source": [
        "import numpy as np\n",
        "import numpy.matlib\n",
        "\n",
        "class nn_Sigmoid:\n",
        "    def forward(self, x):\n",
        "        return 1 / (1 + np.exp(-x))\n",
        "\n",
        "class nn_Linear:\n",
        "    def __init__(self, input_dim, output_dim):\n",
        "        # Initialized with random numbers from a gaussian N(0, 0.001)\n",
        "        self.weight = np.matlib.randn(input_dim, output_dim) * 0.001\n",
        "        self.bias = np.matlib.randn((1, output_dim)) * 0.001\n",
        "        \n",
        "    # y = Wx + b\n",
        "    def forward(self, x):\n",
        "        return np.dot(x, self.weight) + self.bias\n",
        "    \n",
        "    def getParameters(self):\n",
        "        return [self.weight, self.bias]\n",
        "\n",
        "# Let's test the composition of the two functions (forward-propagation in the neural network).\n",
        "x1 = np.array([[1, 2, 2, 3]])\n",
        "y_hat1 = nn_Sigmoid().forward(nn_Linear(4, 3).forward(x1))\n",
        "print('x[1] = '+ str(x1))\n",
        "print('y_hat[1] = ' + str(y_hat1) + '\\n')\n",
        "\n",
        "# Let's test the composition of the two functions (forward-propagation in the neural network).\n",
        "x2 = np.array([[4, 5, 2, 1]])\n",
        "y_hat2 = nn_Sigmoid().forward(nn_Linear(4, 3).forward(x2))\n",
        "print('x[2] = '+ str(x2))\n",
        "print('y_hat[2] = ' + str(y_hat2) + '\\n')\n",
        "\n",
        "# We can also compute both at once, which could be more efficient since it requires a single matrix multiplication.\n",
        "x = np.concatenate((x1, x2), axis = 0)\n",
        "y_hat = nn_Sigmoid().forward(nn_Linear(4, 3).forward(x))\n",
        "print('x = ' + str(x))\n",
        "print('y_hat = ' + str(y_hat))"
      ]
    },
    {
      "cell_type": "markdown",
      "metadata": {
        "id": "oYL-G-qkgO-h"
      },
      "source": [
        "## 1.2. Loss functions.\n",
        "\n",
        "After computing the output predictions $\\widehat{\\mathbf{y}}$ it is necessary to compare these against the true values of $\\mathbf{y}$. Let's call these true, correct, or desired values $\\mathbf{y}$. Typically, a simple loss or cost function is used to measure the degree by which the prediction $\\widehat{\\mathbf{y}}$ is wrong with respect to $\\mathbf{y}$. A common loss function for regression is the sum of squared differences between the prediction and its true value. Assuming a prediction $\\widehat{\\mathbf{y}}^{(d)}$ for our training sample $\\mathbf{x}^{(d)}$ with true value $\\mathbf{y}^{(d)}$, then the loss can be computed as:\n",
        "\n",
        "$$loss(\\widehat{\\mathbf{y}}^{(d)}, \\mathbf{y}^{(d)}) = (\\widehat{y}^{(d)}_1 - y^{(d)}_1)^2 + (\\widehat{y}^{(d)}_2 - y^{(d)}_2)^2 + (\\widehat{y}^{(d)}_3 - y^{(d)}_3)^2 = \\sum_{j=1}^{j=3}(\\widehat{y}^{(d)}_j - y^{(d)}_j)^2$$\n",
        "\n",
        "The goal is to modify the parameters [$\\mathbf{W}, \\mathbf{b}$] in the Linear layer so that the value of $loss(\\widehat{\\mathbf{y}}^{(d)}, \\mathbf{y}^{(d)})$ becomes as small as possible for all training samples in a set $D=\\{(\\mathbf{x}^{(d)},\\mathbf{y}^{(d)})\\}$. This would in turn ensure that predictions $\\widehat{\\mathbf{y}}$ are as similar as possible to the true values $\\mathbf{y}$. To achieve this we need to minimize the following function:\n",
        "\n",
        "$$\\mathcal{L}(\\mathbf{W}, \\mathbf{b}) = \\sum_{d=1}^{d=|D|} loss(\\widehat{\\mathbf{y}}^{(d)}, \\mathbf{y}^{(d)})$$\n",
        "\n",
        "The only two variables for our model in the function $\\mathcal{L}(\\mathbf{W}, \\mathbf{b})$ are $\\mathbf{W}$ and $\\mathbf{b}$, this is because the training dataset $D$ is fixed. Finding the values of $\\mathbf{W}$ and $\\mathbf{b}$ that minimize the the loss, particularly for complex functions, is typically done using gradient based optimization, like Stochastic Gradient Descent (SGD). "
      ]
    },
    {
      "cell_type": "code",
      "execution_count": null,
      "metadata": {
        "id": "YpscMANsgO-h",
        "outputId": "94879f7e-98ae-48bb-ff02-dd13a261b44d"
      },
      "outputs": [
        {
          "data": {
            "text/plain": [
              "1.6271000000000002"
            ]
          },
          "execution_count": 2,
          "metadata": {},
          "output_type": "execute_result"
        }
      ],
      "source": [
        "class nn_MSECriterion:  # MSE = mean squared error.\n",
        "    def forward(self, predictions, labels):\n",
        "        return np.sum(np.square(predictions - labels))\n",
        "\n",
        "# Let's test the loss function.\n",
        "y_hat = np.array([[0.23, 0.25, 0.33], [0.23, 0.25, 0.33], [0.23, 0.25, 0.33], [0.23, 0.25, 0.33]])\n",
        "y_true = np.array([[0.25, 0.25, 0.25], [0.33, 0.33, 0.33], [0.77, 0.77, 0.77], [0.80, 0.80, 0.80]])\n",
        "\n",
        "nn_MSECriterion().forward(y_hat, y_true)"
      ]
    },
    {
      "cell_type": "markdown",
      "metadata": {
        "id": "RAI-ECkbgO-i"
      },
      "source": [
        "\n",
        "## 1.3. Backward-propagation (Backpropagation)\n",
        "\n",
        "As we discussed in class, backpropagation is just applying the chain-rule in calculus to compute the derivative of a function which is the composition of many functions (this is essentially definition of the neural network). \n",
        "\n",
        "Below is the implementation of required derivative computations for our simple network. You are highly advised to derive the derivatives implemented here to make sure you understand how one arrives at them. "
      ]
    },
    {
      "cell_type": "code",
      "execution_count": null,
      "metadata": {
        "id": "ng5fBmzIgO-j",
        "outputId": "0e8fadd6-ab7f-4fd6-d156-423803c8d056"
      },
      "outputs": [
        {
          "name": "stdout",
          "output_type": "stream",
          "text": [
            "\n",
            " num_samples = 1\n",
            "\n",
            "W = [[-0.00900534 -0.01977377 -0.00599254]\n",
            " [-0.00123318 -0.00118847 -0.00646146]\n",
            " [ 0.01728807 -0.00198389 -0.00579186]\n",
            " [-0.00033732  0.01020237 -0.00880655]]\n",
            "B = [[-0.00044203  0.00033301  0.01907115]]\n",
            "\n",
            "x1    = [[1 2 2 3]]\n",
            "lin   = [[ 0.02165045  0.00482162 -0.03784768]]\n",
            "y_hat = [[0.5054124  0.5012054  0.49053921]]\n",
            "\n",
            "loss = 0.18619876128897547\n",
            "\n",
            "dy_hat = [[0.5108248  0.50241081 0.48107842]]\n",
            "dlin   = [[0.12769124 0.12560197 0.12022655]]\n",
            "dx1    = [[-0.00435399 -0.00108358  0.00126202  0.00017958]]\n",
            "\n",
            "dW = [[0.12769124 0.12560197 0.12022655]\n",
            " [0.25538247 0.25120394 0.24045309]\n",
            " [0.25538247 0.25120394 0.24045309]\n",
            " [0.38307371 0.37680591 0.36067964]]\n",
            "dB = [[0.12769124 0.12560197 0.12022655]]\n"
          ]
        }
      ],
      "source": [
        "# This is referred above as f(u).\n",
        "class nn_MSECriterion:\n",
        "    def forward(self, predictions, labels):\n",
        "        return np.sum(np.square(predictions - labels))\n",
        "        \n",
        "    def backward(self, predictions, labels):\n",
        "        num_samples = labels.shape[0]\n",
        "        return 2 * (predictions - labels)\n",
        "\n",
        "# This is referred above as g(v).\n",
        "class nn_Sigmoid:\n",
        "    def forward(self, x):\n",
        "        return 1 / (1 + np.exp(-x))\n",
        "    \n",
        "    def backward(self, x, gradOutput):\n",
        "        # It is usually a good idea to use gv from the forward pass and not recompute it again here.\n",
        "        gv = 1 / (1 + np.exp(-x))  \n",
        "        return np.multiply(np.multiply(gv, (1 - gv)), gradOutput)\n",
        "\n",
        "# This is referred above as h(W, b)\n",
        "class nn_Linear:\n",
        "    def __init__(self, input_dim, output_dim):\n",
        "        # Initialized with random numbers from a gaussian N(0, 0.001)\n",
        "        self.weight = np.matlib.randn(input_dim, output_dim) * 0.01\n",
        "        self.bias = np.matlib.randn((1, output_dim)) * 0.01\n",
        "        self.gradWeight = np.zeros_like(self.weight)\n",
        "        self.gradBias = np.zeros_like(self.bias)\n",
        "        \n",
        "    def forward(self, x):\n",
        "        return np.dot(x, self.weight) + self.bias\n",
        "    \n",
        "    def backward(self, x, gradOutput):\n",
        "        # dL/dw = dh/dw * dL/dv\n",
        "        self.gradWeight = np.dot(x.T, gradOutput)\n",
        "        # dL/db = dh/db * dL/dv\n",
        "        self.gradBias = np.copy(gradOutput)\n",
        "        # return dL/dx = dh/dx * dL/dv\n",
        "        return np.dot(gradOutput, self.weight.T)\n",
        "    \n",
        "    def getParameters(self):\n",
        "        params = [self.weight, self.bias]\n",
        "        gradParams = [self.gradWeight, self.gradBias]\n",
        "        return params, gradParams\n",
        "    \n",
        "\n",
        "# Let's test some dummy inputs for a full pass of forward and backward propagation.\n",
        "x1 = np.array([[1, 2, 2, 3]])\n",
        "y1 = np.array([[0.25, 0.25, 0.25]])\n",
        "\n",
        "# Define the operations.\n",
        "linear = nn_Linear(4, 3)  # h(W, b)\n",
        "sigmoid = nn_Sigmoid()  # g(v)\n",
        "loss = nn_MSECriterion()  # f(u)\n",
        "\n",
        "# Forward-propagation.\n",
        "lin = linear.forward(x1)\n",
        "y_hat = sigmoid.forward(lin)\n",
        "loss_val = loss.forward(y_hat, y1) # Loss function.\n",
        "\n",
        "# Backward-propagation.\n",
        "dy_hat = loss.backward(y_hat, y1)\n",
        "dlin = sigmoid.backward(lin, dy_hat)\n",
        "dx1 = linear.backward(x1, dlin)\n",
        "\n",
        "print('\\n num_samples = ' + str(y1.shape[0]))\n",
        "\n",
        "# Show parameters of the linear layer.\n",
        "print('\\nW = ' + str(linear.weight))\n",
        "print('B = ' + str(linear.bias))\n",
        "\n",
        "# Show the intermediate outputs in the forward pass.\n",
        "print('\\nx1    = '+ str(x1))\n",
        "print('lin   = ' + str(lin))\n",
        "print('y_hat = ' + str(y_hat))\n",
        "\n",
        "print('\\nloss = ' + str(loss_val))\n",
        "\n",
        "# Show the intermediate gradients with respect to inputs in the backward pass.\n",
        "print('\\ndy_hat = ' + str(dy_hat))\n",
        "print('dlin   = ' + str(dlin))\n",
        "print('dx1    = ' + str(dx1))\n",
        "\n",
        "# Show the gradients with respect to parameters.\n",
        "print('\\ndW = ' + str(linear.gradWeight))\n",
        "print('dB = ' + str(linear.gradBias))"
      ]
    },
    {
      "cell_type": "markdown",
      "metadata": {
        "collapsed": true,
        "id": "tK_WHjFjgO-k"
      },
      "source": [
        "## 1.4. Gradient checking \n",
        "\n",
        "The gradients can also be computed with numerical approximation using the definition of derivatives. Let a single input pair $(\\mathbf{x}, \\mathbf{y})$ be the input, for each entry $w_{ij}$ in the weight matrix $\\mathbf{W}$, the partial derivatives can be computed as follows:\n",
        "\n",
        "$$\\frac{\\partial \\mathcal{L}(\\mathbf{W},\\mathbf{b})}{\\partial w_{ij}} = \\frac{\\mathcal{L}(\\mathbf{W} + \\mathbf{E}_{ij},b) - \\mathcal{L}(\\mathbf{W} - \\mathbf{E}_{ij}, b)}{2\\epsilon}, $$\n",
        "\n",
        "where $\\mathbf{E}_{ij}$ is a matrix that has $\\epsilon$ in its $(i,j)$ entry and zeros everywhere else. Intuitively this gradient tells how would the value of the loss changes if we change a particular weight $w_{ij}$ by an $\\epsilon$ amount. We can do the same to compute derivatives with respect to the bias parameters $b_i$. Below is the code that checks for a given input $(\\mathbf{x}, \\mathbf{y})$, the gradients for the matrix $\\mathbf{W}$. "
      ]
    },
    {
      "cell_type": "code",
      "execution_count": null,
      "metadata": {
        "id": "KtpED5azgO-k",
        "outputId": "1bc5f1c3-9672-4632-c117-f46f6a590686"
      },
      "outputs": [
        {
          "name": "stdout",
          "output_type": "stream",
          "text": [
            "gradWeight: [[ -3.16377095  -3.95515106  -5.62204983]\n",
            " [ -5.1377477   -6.42289488  -9.1298245 ]\n",
            " [-46.56421861 -58.21171041 -82.74504103]\n",
            " [ -7.20636717  -9.00895518 -12.80578016]]\n",
            "\n",
            "approxGradWeight: [[ -3.16373988  -3.95501091  -5.62207635]\n",
            " [ -5.13766575  -6.42252527  -9.12989441]\n",
            " [-46.55744591 -58.18131323 -82.75071043]\n",
            " [ -7.20620589  -9.00822799 -12.80591761]]\n"
          ]
        }
      ],
      "source": [
        "# We will compute derivatives with respect to a single data pair (x,y)\n",
        "x = np.array([[2.34, 3.8, 34.44, 5.33]])\n",
        "y = np.array([[3.2, 4.2, 5.3]])\n",
        "\n",
        "# Define the operations.\n",
        "linear = nn_Linear(4, 3)\n",
        "sigmoid = nn_Sigmoid()\n",
        "criterion = nn_MSECriterion()\n",
        "\n",
        "# Forward-propagation.\n",
        "a0 = linear.forward(x)\n",
        "a1 = sigmoid.forward(a0)\n",
        "loss = criterion.forward(a1, y) # Loss function.\n",
        "\n",
        "# Backward-propagation.\n",
        "da1 = criterion.backward(a1, y)\n",
        "da0 = sigmoid.backward(a0, da1)\n",
        "dx = linear.backward(x, da0)\n",
        "\n",
        "gradWeight = linear.gradWeight\n",
        "gradBias = linear.gradBias\n",
        "\n",
        "approxGradWeight = np.zeros_like(linear.weight)\n",
        "approxGradBias = np.zeros_like(linear.bias)\n",
        "\n",
        "# We will verify here that gradWeights are correct and leave it as an excercise\n",
        "# to verify the gradBias.\n",
        "epsilon = 0.0001\n",
        "for i in range(0, linear.weight.shape[0]):\n",
        "    for j in range(0, linear.weight.shape[1]):\n",
        "        # Compute f(w)\n",
        "        fw = criterion.forward(sigmoid.forward(linear.forward(x)), y) # Loss function.\n",
        "        # Compute f(w + eps)\n",
        "        shifted_weight = np.copy(linear.weight)\n",
        "        shifted_weight[i, j] = shifted_weight[i, j] + epsilon\n",
        "        shifted_linear = nn_Linear(4, 3)\n",
        "        shifted_linear.bias = linear.bias\n",
        "        shifted_linear.weight = shifted_weight\n",
        "        fw_epsilon = criterion.forward(sigmoid.forward(shifted_linear.forward(x)), y) # Loss function\n",
        "        # Compute (f(w + eps) - f(w)) / eps\n",
        "        approxGradWeight[i, j] = (fw_epsilon - fw) / epsilon\n",
        "\n",
        "# These two outputs should be similar up to some precision.\n",
        "print('gradWeight: ' + str(gradWeight))\n",
        "print('\\napproxGradWeight: ' + str(approxGradWeight))"
      ]
    },
    {
      "cell_type": "markdown",
      "metadata": {
        "id": "-dABWMsUgO-l"
      },
      "source": [
        "## 1.5. Stochastic Gradient Descent.\n",
        "\n",
        "The code below creates a dummy dataset that will be used for training. The inputs are 1000 vectors of size 4, and the outputs are 1000 vectors of size 3. The focus here is on training, however, in a real task one would check accuracy of the model on test (unseen) data."
      ]
    },
    {
      "cell_type": "code",
      "execution_count": null,
      "metadata": {
        "collapsed": true,
        "id": "mfTGJfLggO-l"
      },
      "outputs": [],
      "source": [
        "dataset_size = 1000\n",
        "\n",
        "# Generate random inputs within some range.\n",
        "x = np.random.uniform(0, 6, (dataset_size, 4))\n",
        "# Generate outputs based on the inputs using some function.\n",
        "y1 = np.sin(x.sum(axis = 1))\n",
        "y2 = np.sin(x[:, 1] * 6)\n",
        "y3 = np.sin(x[:, 1] + x[:, 3])\n",
        "y = np.array([y1, y2, y3]).T\n",
        "\n",
        "print(x.shape)\n",
        "print(y.shape)"
      ]
    },
    {
      "cell_type": "markdown",
      "metadata": {
        "id": "NgSaF_SggO-m"
      },
      "source": [
        "To learn the parameters efficiently we will implement the stochastic gradient descent loop that moves the weights according to the gradients. In each iteration we sample an $(\\mathbf{x}, \\mathbf{y})$ pair and compute the gradients of the parameters, then we update the parameters according to the following gradient descent rules:\n",
        "\n",
        "$$w_{ij} = w_{ij} - \\lambda\\frac{\\partial \\mathcal{L}(\\mathbf{W},\\mathbf{b})}{\\partial w_{ij}}$$\n",
        "\n",
        "$$b_i = b_i - \\lambda\\frac{\\partial \\mathcal{L}(\\mathbf{W},\\mathbf{b})}{\\partial b_i}$$\n",
        "\n",
        "where $\\lambda$ is the learning rate. "
      ]
    },
    {
      "cell_type": "code",
      "execution_count": null,
      "metadata": {
        "collapsed": true,
        "id": "sYqIehlSgO-m"
      },
      "outputs": [],
      "source": [
        "learningRate = 0.1\n",
        "\n",
        "model = {}\n",
        "model['linear'] = nn_Linear(4, 3)\n",
        "model['sigmoid'] = nn_Sigmoid()\n",
        "model['loss'] = nn_MSECriterion()\n",
        "\n",
        "for epoch in range(0, 400):\n",
        "    loss = 0\n",
        "    for i in range(0, dataset_size):\n",
        "        xi = x[i:i+1, :]\n",
        "        yi = y[i:i+1, :]\n",
        "\n",
        "        # Forward.\n",
        "        a0 = model['linear'].forward(xi)\n",
        "        a1 = model['sigmoid'].forward(a0)\n",
        "        loss += model['loss'].forward(a1, yi)\n",
        "\n",
        "        # Backward.\n",
        "        da1 = model['loss'].backward(a1, yi)\n",
        "        da0 = model['sigmoid'].backward(a0, da1)\n",
        "        model['linear'].backward(xi, da0)\n",
        "\n",
        "        model['linear'].weight = model['linear'].weight - learningRate * model['linear'].gradWeight\n",
        "        model['linear'].bias = model['linear'].bias - learningRate * model['linear'].gradBias\n",
        "    \n",
        "    if epoch % 10 == 0: print('epoch[%d] = %.8f' % (epoch, loss / dataset_size))"
      ]
    },
    {
      "cell_type": "markdown",
      "metadata": {
        "id": "SUru8hBmgO-n"
      },
      "source": [
        "# 2. Two-layer neural network with 1-hidden layer.\n",
        "Section 1 implemented a single layer neural network that takes as input vectors of size 4, and outputs vectors of size 3. Here your task is to modify the code to train a two layer network with one hidden layer of size hidden_state_size (note that this is a parameter and should be something you can change). You will need to handin your code for this and remaining parts of the notebook; the notebook you hand in should also have code executed and result saved.  \n",
        "\n",
        "<br>\n",
        "<center>\n",
        "<img src=\"http://www.cs.ubc.ca/~lsigal/532S_2022W1/Assignment1/2_layer_net.png\" width=\"450\">\n",
        "</center>\n",
        "<br>\n"
      ]
    },
    {
      "cell_type": "markdown",
      "metadata": {
        "id": "HCtypIohgO-n"
      },
      "source": [
        "## 2.1. Implementing the network and SGD learning [20 points].\n",
        "Please modify the code of Section 1.5 to implement a two-layer network and the SGD training procedure for it. \n"
      ]
    },
    {
      "cell_type": "code",
      "execution_count": null,
      "metadata": {
        "collapsed": true,
        "id": "Uk5A9pItgO-o"
      },
      "outputs": [],
      "source": [
        "hidden_state_size = 5;\n",
        "\n",
        "# Your code goes here."
      ]
    },
    {
      "cell_type": "markdown",
      "metadata": {
        "id": "A3JNC9_egO-o"
      },
      "source": [
        "## 2.2. Gradient checking [10 points].\n",
        "Check the gradients of the above network for both linear layer parameters $W_1$ and $W_2$ using some sample input pair ($\\mathbf{x}$, $\\mathbf{y}$). You will likely want to look and model this after Section 1.4 above."
      ]
    },
    {
      "cell_type": "code",
      "execution_count": null,
      "metadata": {
        "collapsed": true,
        "id": "ZQr_l_8igO-o"
      },
      "outputs": [],
      "source": [
        "# Your code goes here."
      ]
    },
    {
      "cell_type": "markdown",
      "metadata": {
        "id": "pcVHt1uCgO-p"
      },
      "source": [
        "## 2.3. Activation functions [10 points].\n",
        "\n",
        "As was covered in class, there are other activation functions that can be used instead of sigmoid. Implement below the forward and backward operation for two popular activation functions.\n",
        "\n",
        "$$\\text{ReLU}(\\mathbf{x}) = \\text{max}(0, \\mathbf{x})$$\n",
        "\n",
        "$$\\text{Tanh($\\mathbf{x}$)} = \\text{tanh}(\\mathbf{x}) = \\frac{e^{\\mathbf{x}} - e^{-\\mathbf{x}}}{e^{\\mathbf{x}} + e^{-\\mathbf{x}}}$$\n",
        "\n",
        "Note, that in the above activations are applied element-wise on the input vector $\\mathbf{x}$."
      ]
    },
    {
      "cell_type": "code",
      "execution_count": null,
      "metadata": {
        "collapsed": true,
        "id": "exffeGbJgO-p"
      },
      "outputs": [],
      "source": [
        "# Rectified linear unit\n",
        "class nn_ReLU:\n",
        "    def forward(self, x):\n",
        "        # Forward pass.\n",
        "    \n",
        "    def backward(self, x, gradOutput):\n",
        "        # Backward pass\n",
        "        \n",
        "# Hyperbolic tangent.\n",
        "class nn_Tanh:\n",
        "    def forward(self, x):\n",
        "        # Forward pass.\n",
        "    \n",
        "    def backward(self, x, gradOutput):\n",
        "        # Backward pass\n"
      ]
    },
    {
      "cell_type": "markdown",
      "metadata": {
        "id": "rPA7lM5NgO-q"
      },
      "source": [
        "## 2.4. Loss functions [10 points].\n",
        "\n",
        "As discussed in class, there are other loss functions that can be used instead of a mean squared error. Implement the forward and backward operations for the following very common loss function where $\\widehat{\\mathbf{y}}$ is a vector of predicted values, and $\\mathbf{y}$ is the vector with ground-truth labels. Assume both vectors are of size $n$. \n",
        "\n",
        "$$\\text{BinaryCrossEntropy}(\\mathbf{y}, \\widehat{\\mathbf{y}}) = - \\frac{1}{n}\\sum_{i=1}^{i=n} [y_i\\text{log}(\\widehat{y}_i) + (1 - y_i)\\text{log}(1 - \\widehat{y}_i)]$$,\n",
        "\n",
        "The binary cross entropy loss assumes that the vector $\\mathbf{y}$ only has values that are either 0 and 1, and the prediction vector $\\widehat{\\mathbf{y}}$ contains values between 0 and 1 (e.g. the output of a $\\text{sigmoid}$ layer)."
      ]
    },
    {
      "cell_type": "code",
      "execution_count": null,
      "metadata": {
        "collapsed": true,
        "id": "dod6reDTgO-q"
      },
      "outputs": [],
      "source": [
        "# Binary cross entropy criterion. Useful for classification as opposed to regression.\n",
        "class nn_BCECriterion:\n",
        "    def forward(self, predictions, labels):\n",
        "        # Forward pass.\n",
        "        \n",
        "    def backward(self, predictions, labels):\n",
        "        # Backward pass."
      ]
    },
    {
      "cell_type": "markdown",
      "metadata": {
        "id": "9iS6liR3gO-r"
      },
      "source": [
        "<b>Optional</b> [10 points]: Most deep learning libraries support batches, meaning you can forward, and backward a set of inputs. So far the code supports batches in the forward pass. However, the backward pass does not support batches. Modify the code in backward function of the nn_Linear class to support batches. Then test the implementation by training the network in Section 2.1 using a batch size of 32. <span style=\"color:#666\">(Keep in mind that the gradWeight and gradBias vectors should accumulate the gradients of each sample in the batch. This is because the gradient of the loss with respect to the batch is the sum of the gradients with respect to each sample in the batch. This means that for a batch of size 32, the sum will be over the 32 samples).</span>"
      ]
    },
    {
      "cell_type": "markdown",
      "metadata": {
        "id": "-QohUVpGgO-r"
      },
      "source": [
        "# 3. Behaviour of neural networks [10 points].\n",
        "\n",
        "Prior to this section, all experiments were done in a dummy dataset where it is difficult to see how neural networks behave on more realistic data. In this section the goal is to get a feel for how newural networks behave and what effect hidden statest may play. Below is the code that generates and visualizes a classification dataset of 400 samples. "
      ]
    },
    {
      "cell_type": "code",
      "execution_count": null,
      "metadata": {
        "collapsed": true,
        "id": "JJ2BDhMLgO-s"
      },
      "outputs": [],
      "source": [
        "%matplotlib inline\n",
        "\n",
        "import numpy as np\n",
        "import matplotlib.pyplot as plt\n",
        "import sklearn\n",
        "import sklearn.datasets\n",
        "import sklearn.linear_model\n",
        "import sklearn.datasets\n",
        "\n",
        "def load_planar_dataset():\n",
        "    np.random.seed(1)\n",
        "    m = 400                # number of examples\n",
        "    N = int(m/2)           # number of points per class\n",
        "    D = 2                  # dimensionality\n",
        "    X = np.zeros((m,D))    # data matrix where each row is a single example\n",
        "    Y = np.zeros((m,1), dtype='uint8') # labels vector (0 for red, 1 for blue)\n",
        "    a = 4                  # maximum ray of the flower\n",
        "\n",
        "    for j in range(2):\n",
        "        ix = range(N*j,N*(j+1))\n",
        "        t = np.linspace(j*3.12,(j+1)*3.12,N) + np.random.randn(N)*0.2 # theta\n",
        "        r = a*np.sin(4*t) + np.random.randn(N)*0.2                    # radius\n",
        "        X[ix] = np.c_[r*np.sin(t), r*np.cos(t)]\n",
        "        Y[ix] = j\n",
        "        \n",
        "    X = X.T\n",
        "    Y = Y.T\n",
        "\n",
        "    return X, Y\n",
        "\n",
        "# Load the data\n",
        "X, Y = load_planar_dataset();\n",
        "\n",
        "# Visualize the data:\n",
        "plt.scatter(X[0, :], X[1, :], c=Y[0, :], s=40, cmap=plt.cm.Spectral);"
      ]
    },
    {
      "cell_type": "markdown",
      "metadata": {
        "id": "v3ElKAWtgO-s"
      },
      "source": [
        "## 3.1 Two-layer neural network with 1-hidden layer of size = 1.\n",
        "\n",
        "Reimplement the network from Section 2.1 here, train it and then display the results. "
      ]
    },
    {
      "cell_type": "code",
      "execution_count": null,
      "metadata": {
        "collapsed": true,
        "id": "LmYvxjj7gO-s"
      },
      "outputs": [],
      "source": [
        "# Build a two-layer neural network (so one hidden layer) with sigmoid activations \n",
        "# and MSE loss. The hidden_state_dimensionality should be set to 1 using the variable\n",
        "# below.\n",
        "hidden_state_size = 1; \n",
        "\n",
        "# Define the 2-layer network here (fill in yout code)\n",
        "\n",
        "\n",
        "# Optimize the parameters of the neural network using stochastic gradient descent\n",
        "# using the following parameters\n",
        "\n",
        "learningRate = 0.01\n",
        "numberEpochs = 300\n",
        "\n",
        "for epoch in range(0, numberEpochs):\n",
        "    loss = 0\n",
        "    for i in range(0, Y.size):        \n",
        "        # Forward pass (fill in your code)\n",
        "       \n",
        "        # Backward pass (fill in your code)\n",
        "        \n",
        "        # Update gradients (fill in your code)\n",
        "\n",
        "    if epoch % 10 == 0: print('epoch[%d] = %.8f' % (epoch, loss / dataset_size))\n",
        "\n",
        "\n",
        "%matplotlib inline\n",
        "\n",
        "classEstimate = np.zeros((400,1), dtype='uint8')\n",
        "\n",
        "for i in range(0, 400):        \n",
        "    # Forward pass (fill in your code)\n",
        "       \n",
        "        \n",
        "    classEstimate[i,0] = (y_hat > 0.5)\n",
        "\n",
        "plt.scatter(X[0, :], X[1, :], c=classEstimate[:,0], s=40, cmap=plt.cm.Spectral);"
      ]
    },
    {
      "cell_type": "markdown",
      "metadata": {
        "id": "kwbxbjZLgO-t"
      },
      "source": [
        "## 3.2 Two-layer neural network with 1-hidden layer of size = 5.\n",
        "\n",
        "Redo the experiment with the hidden layer of size 5 and visualize the result. <b>Describe in a separate cell of the notebook what is different between the two runs </b>. What behaviout did network with largerr hidden state exhibit that the one with smaller one did not? Why? "
      ]
    },
    {
      "cell_type": "code",
      "execution_count": null,
      "metadata": {
        "collapsed": true,
        "id": "PpHIRfG9gO-t"
      },
      "outputs": [],
      "source": [
        "hidden_state_size = 5; \n",
        "\n",
        "# Rest should be taken from above "
      ]
    },
    {
      "cell_type": "markdown",
      "metadata": {
        "id": "RdidXCVzgO-u"
      },
      "source": [
        "<div style=\"font-size:0.8em;color:#888;text-align:center;padding-top:20px;\">If you find any errors or have questions about the assignment please contact instructor at lsigal@cs.ubc.ca or post the question on Piazza. "
      ]
    },
    {
      "cell_type": "markdown",
      "source": [
        "# 4. PyTorch and Debugging [20 points].\n",
        "\n",
        "In this section the goal is to experiment with PyTorch and also with the typical debugging techniques used in deep learning and simple debugging tools available to you. In this part you are given re-implementation of the dataset and neural network you worked with in Section 3 of the assignment. However, this re-implementation is based on the data structures and functions available in PyTorch. Note that both the data loader and the model code contain a few strategically placed **bugs**. Your goal in this part of the assignment is to use the provided strategies to discover those bugs. "
      ],
      "metadata": {
        "id": "4ap_IG-ztSn7"
      }
    },
    {
      "cell_type": "markdown",
      "source": [
        "##4.1 Dataloader \n",
        "\n",
        "First thing that typically happens in PyTorch code is definition of a dataloader. A dataloader is used to load and organize the data for training, validation and testing. We are providing a slightly buggy implementation below. "
      ],
      "metadata": {
        "id": "d-QHKwuANBcO"
      }
    },
    {
      "cell_type": "code",
      "source": [
        "%matplotlib inline\n",
        "\n",
        "import numpy as np\n",
        "import matplotlib.pyplot as plt\n",
        "\n",
        "import torch\n",
        "import torch.utils.data as data\n",
        "import torch.nn as nn\n",
        "import random\n",
        "\n",
        "class PlanarDataset(data.Dataset):\n",
        "    def __init__(self,num_examples=400):\n",
        "        ## Function to initialize the dataset class\n",
        "        np.random.seed(1)\n",
        "        m = 400                  # number of examples\n",
        "        N = int(m/2)             # number of points per class\n",
        "        D = 2                    # dimensionality\n",
        "        a = 4                    # maximum ray of the flower\n",
        "\n",
        "        self.X = np.zeros((m,D)) # data matrix where each row is a single example\n",
        "        self.Y = np.zeros((m,1), dtype='uint8') # labels vector (0 for red, 1 for blue)\n",
        "\n",
        "        for j in range(2):\n",
        "            ix = range(N*j,N*(j+1))\n",
        "            t = np.linspace(j*3.12,(j+1)*3.12,N) + np.random.randn(N)*0.2 # theta\n",
        "            r = a*np.sin(4*t) + np.random.randn(N)*0.2                    # radius\n",
        "            self.X[ix] = np.c_[r*np.sin(t), r*np.cos(t)]\n",
        "            self.Y[ix] = random.randint(0, 1) \n",
        "\n",
        "    def __getitem__(self, index):\n",
        "        ## Return a data point given an index. Convert numpy array to Pytorch Tensor.\n",
        "        return torch.from_numpy(self.X[index,:],).type(torch.FloatTensor), torch.from_numpy(self.Y[index,:]).type(torch.FloatTensor)\n",
        "\n",
        "\n",
        "    def __len__(self):\n",
        "        ## Return the length of the dataset\n",
        "        return self.X.shape[0]\n",
        "    \n",
        "    def get_all_data(self):\n",
        "      ## Return all the data. Not something you would do for large datasets. Just used here for convenience of visualization\n",
        "      return self.X.T, self.Y.T\n"
      ],
      "metadata": {
        "id": "2k2I2QvowZ9E"
      },
      "execution_count": 5,
      "outputs": []
    },
    {
      "cell_type": "markdown",
      "source": [
        "## 4.2 **Debugging Strategy 1**: Always visualize the data.\n",
        "\n",
        "Please use the code below to visualize the data from the dataloader above. Please run this cell multiple times. You should see that the visualization changes. This means that something non-determenistic is happening in the datalader. You should be able spot what is happening from visualization. Once you do, go back and fix the data loader above. \n",
        "\n",
        "**Hint:** only one line needs changing in the dataloader. "
      ],
      "metadata": {
        "id": "lLPWDvCqJH0q"
      }
    },
    {
      "cell_type": "code",
      "source": [
        "# Load the data\n",
        "planarDataObj = PlanarDataset()\n",
        "X, Y = planarDataObj.get_all_data()\n",
        "\n",
        "# Visualize the data:\n",
        "plt.scatter(X[0, :], X[1, :], c=Y[0, :], s=40, cmap=plt.cm.Spectral);"
      ],
      "metadata": {
        "id": "KVDtrhWYL-0g"
      },
      "execution_count": null,
      "outputs": []
    },
    {
      "cell_type": "markdown",
      "source": [
        "## 4.3 Model definition and optimization\n",
        "\n",
        "Functions bellow define a version of neural network with a single hidden layer, from Section 3, using PyTorch functions. Note that similarly to above this code is not bug-free."
      ],
      "metadata": {
        "id": "frNnA41BOEFD"
      }
    },
    {
      "cell_type": "code",
      "source": [
        "hidden_state_size = 5; \n",
        "\n",
        "# Define a model and loss \n",
        "linear1 = nn.Linear(in_features=2, out_features=hidden_state_size)\n",
        "for param in linear1.parameters():  \n",
        "    param.requires_grad = False\n",
        "sigmoid = nn.Sigmoid()\n",
        "linear2 = nn.Linear(in_features=hidden_state_size, out_features=1) \n",
        "model  = nn.Sequential(linear1,sigmoid,linear2,sigmoid)\n",
        "\n",
        "# Define a loss \n",
        "MSELoss = nn.MSELoss()\n",
        "\n",
        "# Set hyperparameters\n",
        "learning_rate = 0.1\n",
        "num_epochs = 300\n",
        "batchsize = 64\n",
        "\n",
        "# Setup the optimizer \n",
        "optimizer = torch.optim.SGD(model.parameters(), lr=learning_rate, momentum=0.9)\n",
        "\n",
        "# Seup the dataset and dataloaders (one for training and one for testing)\n",
        "planarDataObj = PlanarDataset()\n",
        "dataset_size = planarDataObj.__len__()\n",
        "train_loader = torch.utils.data.DataLoader(planarDataObj, batch_size=batchsize, shuffle=True) ## Shuffle will randomly shuffle the data\n",
        "test_loader = torch.utils.data.DataLoader(planarDataObj, batch_size=batchsize, shuffle=False)\n",
        "\n",
        "# Training loop\n",
        "for epoch in range(num_epochs):\n",
        "    running_loss = 0.0\n",
        "    for iter, data in enumerate(train_loader):\n",
        "        # Get data for the minibatch\n",
        "        input,target = data\n",
        "        \n",
        "        # We have to set gradients to zero at the start of every iteration\n",
        "        optimizer.zero_grad() \n",
        "        \n",
        "        # Forward pass through the model\n",
        "        output = model(input)\n",
        "        loss = MSELoss(output,target)\n",
        "        running_loss += loss.item()\n",
        "        \n",
        "        # Backpropagation\n",
        "        loss.backward()\n",
        "        optimizer.step()\n",
        "\n",
        "    # Print the loss per epoch    \n",
        "    if epoch % 10 == 0: print('epoch[%d] = %.8f' % (epoch, running_loss / dataset_size))\n",
        "\n",
        "\n",
        "%matplotlib inline\n",
        "\n",
        "# Put model in evaluation mode\n",
        "model.eval()\n",
        "\n",
        "classEstimate = np.zeros((400,1), dtype='uint8')\n",
        "all_data = np.zeros((400,2))\n",
        "\n",
        "start_ind, end_ind = 0,0\n",
        "\n",
        "# Testing loop\n",
        "for i, data in  enumerate(test_loader):\n",
        "    # Get data for the minibatch\n",
        "    input, target = data\n",
        "    num_samples = input.shape[0]\n",
        "    \n",
        "    # Forward pass through the trained model\n",
        "    output = model(input)\n",
        "\n",
        "    # Convert torch tensor output to numpy tensor\n",
        "    output = output.detach().numpy()\n",
        "\n",
        "    # Bookeeping on predictions\n",
        "    end_ind = start_ind + num_samples\n",
        "    all_data[start_ind:end_ind,:] = input.detach().numpy()\n",
        "    classEstimate[start_ind:end_ind,0] = (output.squeeze() > 0.5)\n",
        "    start_ind = end_ind\n",
        "\n",
        "# Plot the result\n",
        "all_data = all_data.T\n",
        "plt.scatter(all_data[0, :],all_data[1, :], c=classEstimate[:,0], s=40, cmap=plt.cm.Spectral);"
      ],
      "metadata": {
        "id": "alCDsgiyyGiB"
      },
      "execution_count": null,
      "outputs": []
    },
    {
      "cell_type": "markdown",
      "source": [
        "## 4.4 **Debugging Strategy 2:** Remove all sources of randomness from the code\n",
        "\n",
        "Note that while it is clear that the code above isn't performing as expected (loss does not go down) with every run of the cell you should see a slightly different result and order of loss values. This is because of inherent randomness in the code. While the randomness is good when learning (avoids biases) it is bad when debugging for obvious reasons. Modify the code above to make sure it executes the same way every time you run it. For this you will want to make use of the function below and also fix the randomness in dataloader. \n",
        "\n",
        "**Note:** Use the function below as well as look at ensuring that the order of data in the dataloader remains fixed. You may want to consult PyTorch guidelines on reproducibility https://pytorch.org/docs/stable/notes/randomness.html."
      ],
      "metadata": {
        "id": "SzF-GfZbS5FH"
      }
    },
    {
      "cell_type": "code",
      "source": [
        "def fix_seeds():\n",
        "    random_seed = 1      # or coluld be any of your favorite number \n",
        "    torch.manual_seed(random_seed)\n",
        "    torch.cuda.manual_seed(random_seed)\n",
        "    torch.backends.cudnn.deterministic = True\n",
        "    torch.backends.cudnn.benchmark = False\n",
        "    np.random.seed(random_seed)\n",
        "    random.seed(random_seed)\n",
        "\n",
        "\n",
        "# Copy the code from Section 4.3 and modify accordingly"
      ],
      "metadata": {
        "id": "EEIGzLht1-0c"
      },
      "execution_count": 8,
      "outputs": []
    },
    {
      "cell_type": "markdown",
      "source": [
        "## 4.5 **Debugging Strategy 3:** Train with minimal amount of data \n",
        "\n",
        "It may still be difficult to identify what is wrong based on results in Section 4.4. A really good strategy, especially for model debugging, is to try optimizing with a single example/sample. Modify the code from Section 4.4 in order to do this. Once you do and run it, it should be obvious that there is a bug in your code and what that bug might be. "
      ],
      "metadata": {
        "id": "AU79m3mA3Mmm"
      }
    },
    {
      "cell_type": "code",
      "source": [
        "# Copy the code from Section 4.4 and modify to run with batch size of 1 and only one / same batch used in each epoch."
      ],
      "metadata": {
        "id": "jKNy5BWA4EzF"
      },
      "execution_count": 9,
      "outputs": []
    },
    {
      "cell_type": "code",
      "source": [
        "# Once you find the bug, fix it here and make sure you can effectively reproduce the result in Section 3"
      ],
      "metadata": {
        "id": "kp-4-gESCP9k"
      },
      "execution_count": null,
      "outputs": []
    },
    {
      "cell_type": "markdown",
      "source": [
        "## 4.6 **Debugging Strategy 4:** Use Tensorboard or similar.\n",
        "\n",
        "At this point the model and training code should be correct and you should be able to train the model. However, the hyperparameters may still not be optimal. For hyperparameter tuning and to log many experiments it is advisable to use some way to visualise the training process. Tensorboard provides such ability. Another alternative is Weights & Biases.  \n",
        "\n",
        "Let’s now try using TensorBoard with PyTorch! Before logging anything, we need to create a SummaryWriter instance. Writer will output to ./runs/ directory by default."
      ],
      "metadata": {
        "id": "L5ggif0e4TSb"
      }
    },
    {
      "cell_type": "code",
      "source": [
        "import torch\n",
        "from torch.utils.tensorboard import SummaryWriter\n",
        "writer = SummaryWriter()"
      ],
      "metadata": {
        "id": "Icqw80OZ-Bdj"
      },
      "execution_count": null,
      "outputs": []
    },
    {
      "cell_type": "markdown",
      "source": [
        "We can use `add_scalar(tag, scalar_value, global_step=None, walltime=None)` to log scalar values (e.g. loss). We have to call `flush()` method to make sure that all pending events have been written to disk. Finally if we do not need the summary writer anymore, then call `close()` method.\n",
        "\n",
        "Your next task is to slightly modify the code to log the Loss and Accuracy into the Tesnorboard log file. This will require modifying the training loop as follows:\n",
        "\n",
        "```\n",
        "for epoch in range(num_epochs):\n",
        "    running_loss = 0.0\n",
        "    total_correct = 0\n",
        "    for iter, data in enumerate(train_loader):\n",
        "        # Get data for the minibatch\n",
        "        input,target = data\n",
        "\n",
        "        # We have to set gradients to zero at the start of every iteration\n",
        "        optimizer.zero_grad() \n",
        "\n",
        "        # Forward pass through the model\n",
        "        output = model(input)\n",
        "        loss = MSELoss(output,target)\n",
        "        running_loss += loss.item()\n",
        "        total_correct += output.argmax(dim=1).eq(target).sum().item()\n",
        "        \n",
        "        # Backpropagation\n",
        "        loss.backward()\n",
        "        optimizer.step()\n",
        "    \n",
        "    # Log accuracy and loss\n",
        "    writer.add_scalar(\"Loss/train\", running_loss, epoch)\n",
        "    writer.add_scalar(\"Accuracy\", total_correct/ dataset_size, epoch)\n",
        "        \n",
        "    if epoch % 10 == 0: print('epoch[%d] = %.8f' % (epoch, running_loss / dataset_size))\n",
        "\n",
        "# Flush and close the log file\n",
        "writer.flush()\n",
        "writer.close()\n",
        "```\n",
        "\n",
        "\n"
      ],
      "metadata": {
        "id": "Uu0LTjEi8EzP"
      }
    },
    {
      "cell_type": "code",
      "source": [
        "# Insert your code here"
      ],
      "metadata": {
        "id": "X1Qy0VVN-HuY"
      },
      "execution_count": null,
      "outputs": []
    },
    {
      "cell_type": "markdown",
      "source": [
        "Now install the tensorboard"
      ],
      "metadata": {
        "id": "IGPK-4_I7t8s"
      }
    },
    {
      "cell_type": "code",
      "source": [
        "!pip install tensorboard"
      ],
      "metadata": {
        "id": "BOAJcbKT7zIL"
      },
      "execution_count": null,
      "outputs": []
    },
    {
      "cell_type": "markdown",
      "source": [
        "Now to start tensorboard in google colab we can run following command."
      ],
      "metadata": {
        "id": "UqZkEr5a71Mv"
      }
    },
    {
      "cell_type": "code",
      "source": [
        "%load_ext tensorboard\n",
        "%tensorboard --logdir runs"
      ],
      "metadata": {
        "id": "lV4z75Ak-fVO"
      },
      "execution_count": null,
      "outputs": []
    }
  ],
  "metadata": {
    "kernelspec": {
      "display_name": "Python 3",
      "language": "python",
      "name": "python3"
    },
    "language_info": {
      "codemirror_mode": {
        "name": "ipython",
        "version": 3
      },
      "file_extension": ".py",
      "mimetype": "text/x-python",
      "name": "python",
      "nbconvert_exporter": "python",
      "pygments_lexer": "ipython3",
      "version": "3.6.3"
    },
    "colab": {
      "provenance": []
    }
  },
  "nbformat": 4,
  "nbformat_minor": 0
}